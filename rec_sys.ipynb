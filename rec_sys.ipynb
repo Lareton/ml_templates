{
 "cells": [
  {
   "cell_type": "code",
   "execution_count": null,
   "metadata": {
    "collapsed": true
   },
   "outputs": [],
   "source": [
    "import sys\n",
    "import pandas as pd\n",
    "import numpy as np\n",
    "import scipy.sparse as sparse\n",
    "from scipy.sparse.linalg import spsolve\n",
    "import random\n",
    "\n",
    "from sklearn.preprocessing import MinMaxScaler\n",
    "\n",
    "import implicit\n",
    "\n",
    "# Load the data like we did before\n",
    "raw_data = pd.read_table('data/usersha1-artmbid-artname-plays.tsv')\n",
    "raw_data = raw_data.drop(raw_data.columns[1], axis=1)\n",
    "raw_data.columns = ['user', 'artist', 'plays']\n",
    "\n",
    "# Drop NaN columns\n",
    "data = raw_data.dropna()\n",
    "data = data.copy()\n",
    "\n",
    "# Create a numeric user_id and artist_id column\n",
    "data['user'] = data['user'].astype(\"category\")\n",
    "data['artist'] = data['artist'].astype(\"category\")\n",
    "data['user_id'] = data['user'].cat.codes\n",
    "data['artist_id'] = data['artist'].cat.codes\n",
    "\n",
    "# The implicit library expects data as a item-user matrix so we\n",
    "# create two matricies, one for fitting the model (item-user)\n",
    "# and one for recommendations (user-item)\n",
    "sparse_item_user = sparse.csr_matrix((data['plays'].astype(float), (data['artist_id'], data['user_id'])))\n",
    "sparse_user_item = sparse.csr_matrix((data['plays'].astype(float), (data['user_id'], data['artist_id'])))\n",
    "\n",
    "# Initialize the als model and fit it using the sparse item-user matrix\n",
    "model = implicit.als.AlternatingLeastSquares(factors=20, regularization=0.1, iterations=20)\n",
    "\n",
    "# Calculate the confidence by multiplying it by our alpha value.\n",
    "alpha_val = 15\n",
    "data_conf = (sparse_item_user * alpha_val).astype('double')\n",
    "\n",
    "#Fit the model\n",
    "model.fit(data_conf)\n",
    "\n",
    "\n",
    "#---------------------\n",
    "# FIND SIMILAR ITEMS\n",
    "#---------------------\n",
    "\n",
    "# Find the 10 most similar to Jay-Z\n",
    "item_id = 147068 #Jay-Z\n",
    "n_similar = 10\n",
    "\n",
    "# Use implicit to get similar items.\n",
    "similar = model.similar_items(item_id, n_similar)\n",
    "\n",
    "# Print the names of our most similar artists\n",
    "for item in similar:\n",
    "    idx, score = item\n",
    "    print data.artist.loc[data.artist_id == idx].iloc[0]\n",
    "\n",
    "\n",
    "#------------------------------\n",
    "# CREATE USER RECOMMENDATIONS\n",
    "#------------------------------\n",
    "\n",
    "# Create recommendations for user with id 2025\n",
    "user_id = 2025\n",
    "\n",
    "# Use the implicit recommender.\n",
    "recommended = model.recommend(user_id, sparse_user_item)\n",
    "\n",
    "artists = []\n",
    "scores = []\n",
    "\n",
    "# Get artist names from ids\n",
    "for item in recommended:\n",
    "    idx, score = item\n",
    "    artists.append(data.artist.loc[data.artist_id == idx].iloc[0])\n",
    "    scores.append(score)\n",
    "\n",
    "# Create a dataframe of artist names and scores\n",
    "recommendations = pd.DataFrame({'artist': artists, 'score': scores})\n",
    "\n",
    "print recommendations"
   ]
  },
  {
   "cell_type": "code",
   "execution_count": null,
   "outputs": [],
   "source": [],
   "metadata": {
    "collapsed": false,
    "pycharm": {
     "name": "#%%\n"
    }
   }
  },
  {
   "cell_type": "code",
   "execution_count": 1,
   "outputs": [],
   "source": [
    "import sys\n",
    "import pandas as pd\n",
    "import numpy as np\n",
    "import scipy.sparse as sparse\n",
    "from scipy.sparse.linalg import spsolve\n",
    "import random\n",
    "\n",
    "from sklearn.preprocessing import MinMaxScaler\n",
    "\n",
    "import implicit"
   ],
   "metadata": {
    "collapsed": false,
    "pycharm": {
     "name": "#%%\n"
    }
   }
  },
  {
   "cell_type": "code",
   "execution_count": 2,
   "outputs": [],
   "source": [
    "# загружаем датасет\n",
    "df = pd.read_csv('data/ratings.csv')"
   ],
   "metadata": {
    "collapsed": false,
    "pycharm": {
     "name": "#%%\n"
    }
   }
  },
  {
   "cell_type": "code",
   "execution_count": 3,
   "outputs": [],
   "source": [
    "# выводим количество пользователей и фильмов\n",
    "n_users = df['userId'].unique().shape[0]\n",
    "n_items = df['movieId'].unique().shape[0]"
   ],
   "metadata": {
    "collapsed": false,
    "pycharm": {
     "name": "#%%\n"
    }
   }
  },
  {
   "cell_type": "code",
   "execution_count": 4,
   "outputs": [
    {
     "name": "stdout",
     "output_type": "stream",
     "text": [
      "610 9724\n"
     ]
    }
   ],
   "source": [
    "print(n_users, n_items)"
   ],
   "metadata": {
    "collapsed": false,
    "pycharm": {
     "name": "#%%\n"
    }
   }
  },
  {
   "cell_type": "code",
   "execution_count": 6,
   "outputs": [],
   "source": [
    "# чтобы можно было удобно работать дальше, необходимо отмасштабировать\n",
    "# значения в колонке movieId (новые значения будут в диапазоне от 1 до\n",
    "# количества фильмов)\n",
    "input_list = df['movieId'].unique()\n",
    "\n",
    "def scale_movie_id(input_id):\n",
    "    return np.where(input_list == input_id)[0][0] + 1\n",
    "\n",
    "df['movieId'] = df['movieId'].apply(scale_movie_id)"
   ],
   "metadata": {
    "collapsed": false,
    "pycharm": {
     "name": "#%%\n"
    }
   }
  },
  {
   "cell_type": "code",
   "execution_count": 7,
   "outputs": [],
   "source": [
    "from sklearn.model_selection import train_test_split\n",
    "\n",
    "# делим данные на тренировочный и тестовый наборы\n",
    "train_data, test_data = train_test_split(df, test_size=0.20)"
   ],
   "metadata": {
    "collapsed": false,
    "pycharm": {
     "name": "#%%\n"
    }
   }
  },
  {
   "cell_type": "code",
   "execution_count": 8,
   "outputs": [],
   "source": [
    "# создаём две user-item матрицы – для обучения и для теста\n",
    "train_data_matrix = np.zeros((n_users, n_items))\n",
    "\n",
    "for line in train_data.itertuples():\n",
    "    train_data_matrix[line[1] - 1, line[2] - 1] = line[3]\n",
    "\n",
    "test_data_matrix = np.zeros((n_users, n_items))\n",
    "\n",
    "for line in test_data.itertuples():\n",
    "    test_data_matrix[line[1] - 1, line[2] - 1] = line[3]"
   ],
   "metadata": {
    "collapsed": false,
    "pycharm": {
     "name": "#%%\n"
    }
   }
  },
  {
   "cell_type": "code",
   "execution_count": 34,
   "outputs": [
    {
     "data": {
      "text/plain": "        userId  movieId  rating   timestamp\n0            1        1     4.0   964982703\n1            1        2     4.0   964981247\n2            1        3     4.0   964982224\n3            1        4     5.0   964983815\n4            1        5     5.0   964982931\n...        ...      ...     ...         ...\n100831     610     3121     4.0  1493848402\n100832     610     2036     5.0  1493850091\n100833     610     3122     5.0  1494273047\n100834     610     1393     5.0  1493846352\n100835     610     2874     3.0  1493846415\n\n[100836 rows x 4 columns]",
      "text/html": "<div>\n<style scoped>\n    .dataframe tbody tr th:only-of-type {\n        vertical-align: middle;\n    }\n\n    .dataframe tbody tr th {\n        vertical-align: top;\n    }\n\n    .dataframe thead th {\n        text-align: right;\n    }\n</style>\n<table border=\"1\" class=\"dataframe\">\n  <thead>\n    <tr style=\"text-align: right;\">\n      <th></th>\n      <th>userId</th>\n      <th>movieId</th>\n      <th>rating</th>\n      <th>timestamp</th>\n    </tr>\n  </thead>\n  <tbody>\n    <tr>\n      <th>0</th>\n      <td>1</td>\n      <td>1</td>\n      <td>4.0</td>\n      <td>964982703</td>\n    </tr>\n    <tr>\n      <th>1</th>\n      <td>1</td>\n      <td>2</td>\n      <td>4.0</td>\n      <td>964981247</td>\n    </tr>\n    <tr>\n      <th>2</th>\n      <td>1</td>\n      <td>3</td>\n      <td>4.0</td>\n      <td>964982224</td>\n    </tr>\n    <tr>\n      <th>3</th>\n      <td>1</td>\n      <td>4</td>\n      <td>5.0</td>\n      <td>964983815</td>\n    </tr>\n    <tr>\n      <th>4</th>\n      <td>1</td>\n      <td>5</td>\n      <td>5.0</td>\n      <td>964982931</td>\n    </tr>\n    <tr>\n      <th>...</th>\n      <td>...</td>\n      <td>...</td>\n      <td>...</td>\n      <td>...</td>\n    </tr>\n    <tr>\n      <th>100831</th>\n      <td>610</td>\n      <td>3121</td>\n      <td>4.0</td>\n      <td>1493848402</td>\n    </tr>\n    <tr>\n      <th>100832</th>\n      <td>610</td>\n      <td>2036</td>\n      <td>5.0</td>\n      <td>1493850091</td>\n    </tr>\n    <tr>\n      <th>100833</th>\n      <td>610</td>\n      <td>3122</td>\n      <td>5.0</td>\n      <td>1494273047</td>\n    </tr>\n    <tr>\n      <th>100834</th>\n      <td>610</td>\n      <td>1393</td>\n      <td>5.0</td>\n      <td>1493846352</td>\n    </tr>\n    <tr>\n      <th>100835</th>\n      <td>610</td>\n      <td>2874</td>\n      <td>3.0</td>\n      <td>1493846415</td>\n    </tr>\n  </tbody>\n</table>\n<p>100836 rows × 4 columns</p>\n</div>"
     },
     "execution_count": 34,
     "metadata": {},
     "output_type": "execute_result"
    }
   ],
   "source": [
    "df"
   ],
   "metadata": {
    "collapsed": false,
    "pycharm": {
     "name": "#%%\n"
    }
   }
  },
  {
   "cell_type": "code",
   "execution_count": 10,
   "outputs": [
    {
     "data": {
      "text/plain": "array([[4. , 4. , 4. , ..., 0. , 0. , 0. ],\n       [0. , 0. , 0. , ..., 0. , 0. , 0. ],\n       [0. , 0. , 0. , ..., 0. , 0. , 0. ],\n       ...,\n       [2.5, 2. , 0. , ..., 0. , 0. , 0. ],\n       [3. , 0. , 0. , ..., 0. , 0. , 0. ],\n       [5. , 0. , 0. , ..., 3. , 3.5, 3.5]])"
     },
     "execution_count": 10,
     "metadata": {},
     "output_type": "execute_result"
    }
   ],
   "source": [
    "train_data_matrix"
   ],
   "metadata": {
    "collapsed": false,
    "pycharm": {
     "name": "#%%\n"
    }
   }
  },
  {
   "cell_type": "code",
   "execution_count": 11,
   "outputs": [
    {
     "name": "stderr",
     "output_type": "stream",
     "text": [
      "C:\\Users\\iltya\\anaconda3\\lib\\site-packages\\implicit\\utils.py:28: UserWarning: OpenBLAS detected. Its highly recommend to set the environment variable 'export OPENBLAS_NUM_THREADS=1' to disable its internal multithreading\n",
      "  warnings.warn(\n"
     ]
    }
   ],
   "source": [
    "model = implicit.als.AlternatingLeastSquares(factors=50)"
   ],
   "metadata": {
    "collapsed": false,
    "pycharm": {
     "name": "#%%\n"
    }
   }
  },
  {
   "cell_type": "code",
   "execution_count": 54,
   "outputs": [
    {
     "data": {
      "text/plain": "  0%|          | 0/15 [00:00<?, ?it/s]",
      "application/vnd.jupyter.widget-view+json": {
       "version_major": 2,
       "version_minor": 0,
       "model_id": "b4dcdad368164b8394e364166e5985a8"
      }
     },
     "metadata": {},
     "output_type": "display_data"
    }
   ],
   "source": [
    "from scipy import sparse\n",
    "train_data_matrix = sparse.csr_matrix(train_data_matrix)\n",
    "test_data_matrix = sparse.csr_matrix(test_data_matrix)\n",
    "model.fit(train_data_matrix)"
   ],
   "metadata": {
    "collapsed": false,
    "pycharm": {
     "name": "#%%\n"
    }
   }
  },
  {
   "cell_type": "code",
   "execution_count": 55,
   "outputs": [],
   "source": [
    "user_items = train_data_matrix.T.tocsr()\n",
    "user_items_test = test_data_matrix.T.tocsr()"
   ],
   "metadata": {
    "collapsed": false,
    "pycharm": {
     "name": "#%%\n"
    }
   }
  },
  {
   "cell_type": "code",
   "execution_count": null,
   "outputs": [],
   "source": [
    "user_items"
   ],
   "metadata": {
    "collapsed": false,
    "pycharm": {
     "name": "#%%\n"
    }
   }
  },
  {
   "cell_type": "code",
   "execution_count": 45,
   "outputs": [],
   "source": [],
   "metadata": {
    "collapsed": false,
    "pycharm": {
     "name": "#%%\n"
    }
   }
  },
  {
   "cell_type": "code",
   "execution_count": 48,
   "outputs": [
    {
     "name": "stdout",
     "output_type": "stream",
     "text": [
      "rec for 0:  (array([  7, 121,  73]), array([1.1730493, 1.1619581, 1.1553907], dtype=float32))\n",
      "rec for 1:  (array([244, 238, 232]), array([0.72680235, 0.6774666 , 0.66783744], dtype=float32))\n",
      "rec for 2:  (array([ 86, 224, 272]), array([0.19111466, 0.17105395, 0.16759826], dtype=float32))\n",
      "rec for 3:  (array([491, 428,   4]), array([1.0915241, 1.0602024, 1.0419829], dtype=float32))\n",
      "rec for 4:  (array([ 25, 463,  20]), array([0.89451295, 0.8907545 , 0.87786883], dtype=float32))\n",
      "rec for 5:  (array([484, 608, 504]), array([1.3142223, 1.2803171, 1.2770566], dtype=float32))\n",
      "rec for 6:  (array([ 85, 758, 463]), array([1.0895649 , 0.95497346, 0.9394176 ], dtype=float32))\n",
      "rec for 7:  (array([ 20, 232,  25]), array([0.9668588 , 0.91664624, 0.8789672 ], dtype=float32))\n",
      "rec for 8:  (array([764, 758,  15]), array([0.57201314, 0.5240848 , 0.52194977], dtype=float32))\n",
      "rec for 9:  (array([ 20, 934, 877]), array([0.910225 , 0.8968362, 0.8756878], dtype=float32))\n",
      "rec for 10:  (array([ 42, 531, 478]), array([0.99929726, 0.900101  , 0.89383566], dtype=float32))\n",
      "rec for 11:  (array([ 462, 1000,  863]), array([0.4827688 , 0.48004577, 0.4578467 ], dtype=float32))\n",
      "rec for 12:  (array([ 228,  737, 1014]), array([0.4003305 , 0.3891012 , 0.36602595], dtype=float32))\n",
      "rec for 13:  (array([ 32, 232,  16]), array([0.8850326, 0.8529113, 0.84603  ], dtype=float32))\n",
      "rec for 14:  (array([166, 774, 232]), array([1.2864089, 1.1419247, 1.0825814], dtype=float32))\n",
      "rec for 15:  (array([1027,    4,  166]), array([1.1448522, 1.1102769, 1.0947281], dtype=float32))\n",
      "rec for 16:  (array([  70, 1027,   68]), array([1.1566471, 1.0636361, 0.9797395], dtype=float32))\n",
      "rec for 17:  (array([ 471,   62, 1021]), array([1.4542503, 1.3560963, 1.3234903], dtype=float32))\n",
      "rec for 18:  (array([1404, 1469,  471]), array([1.4348986, 1.3839779, 1.341105 ], dtype=float32))\n",
      "rec for 19:  (array([1186,   88, 1774]), array([1.4853026, 1.1277355, 1.0908713], dtype=float32))\n",
      "rec for 20:  (array([ 755,  770, 1077]), array([1.216853 , 1.1968709, 1.169208 ], dtype=float32))\n",
      "rec for 21:  (array([ 754,  232, 1129]), array([0.93672043, 0.9225864 , 0.90482885], dtype=float32))\n",
      "rec for 22:  (array([588,  36,  72]), array([1.0787909, 1.0614529, 1.0544835], dtype=float32))\n",
      "rec for 23:  (array([ 15, 166, 238]), array([0.96897626, 0.93630195, 0.8894626 ], dtype=float32))\n",
      "rec for 24:  (array([753, 764, 774]), array([0.8450056, 0.8141896, 0.7965188], dtype=float32))\n",
      "rec for 25:  (array([ 16, 463, 472]), array([0.6108812 , 0.57527745, 0.57169324], dtype=float32))\n",
      "rec for 26:  (array([ 70,  73, 481]), array([1.0774398, 0.9338591, 0.9018527], dtype=float32))\n",
      "rec for 27:  (array([1253, 1031, 1021]), array([1.4218348, 1.4012921, 1.3967487], dtype=float32))\n",
      "rec for 28:  (array([1027,  722, 1136]), array([0.81572354, 0.7347654 , 0.66242456], dtype=float32))\n",
      "rec for 29:  (array([ 15, 166, 753]), array([0.91051894, 0.8618065 , 0.84116024], dtype=float32))\n",
      "rec for 30:  (array([15, 73, 40]), array([1.0245264 , 0.89333147, 0.8633005 ], dtype=float32))\n",
      "rec for 31:  (array([ 15, 292, 524]), array([1.2172468, 1.1302654, 1.1261272], dtype=float32))\n",
      "rec for 32:  (array([ 28, 469, 233]), array([1.1357517, 1.0964546, 1.0749764], dtype=float32))\n",
      "rec for 33:  (array([1796,  744,  756]), array([0.74467164, 0.6978378 , 0.6951297 ], dtype=float32))\n",
      "rec for 34:  (array([463, 321, 604]), array([0.6113361, 0.5736245, 0.5605757], dtype=float32))\n",
      "rec for 35:  (array([ 332, 1027,  428]), array([0.37549353, 0.34923553, 0.31559828], dtype=float32))\n",
      "rec for 36:  (array([463,  16, 472]), array([0.6771196 , 0.6249418 , 0.62198734], dtype=float32))\n",
      "rec for 37:  (array([ 32,  16, 472]), array([1.1096534, 1.0361528, 0.9942486], dtype=float32))\n",
      "rec for 38:  (array([68, 16, 69]), array([1.0551373 , 1.0517434 , 0.99263215], dtype=float32))\n",
      "rec for 39:  (array([ 16,  33, 323]), array([1.1130722, 1.068984 , 0.9970358], dtype=float32))\n",
      "rec for 40:  (array([1125,  233, 2049]), array([1.2756414, 1.1748093, 1.1165183], dtype=float32))\n",
      "rec for 41:  (array([ 827, 1178,  727]), array([1.3925196, 1.3238925, 1.2721651], dtype=float32))\n",
      "rec for 42:  (array([531, 323, 471]), array([1.1814802, 1.1371006, 1.1052905], dtype=float32))\n",
      "rec for 43:  (array([  42,   41, 2426]), array([0.8675133, 0.836111 , 0.8336045], dtype=float32))\n",
      "rec for 44:  (array([ 182, 1600,  399]), array([1.332855 , 1.3074758, 1.2631022], dtype=float32))\n",
      "rec for 45:  (array([472, 463, 531]), array([0.95451814, 0.92582566, 0.9235021 ], dtype=float32))\n",
      "rec for 46:  (array([1170,  480,   34]), array([0.88069487, 0.8777849 , 0.844842  ], dtype=float32))\n",
      "rec for 47:  (array([ 101,  228, 1030]), array([0.61725914, 0.5425183 , 0.5396373 ], dtype=float32))\n",
      "rec for 48:  (array([166, 232,  20]), array([0.7054469 , 0.6218144 , 0.61348426], dtype=float32))\n",
      "rec for 49:  (array([722, 762, 779]), array([1.3176887, 1.2310568, 1.1744535], dtype=float32))\n",
      "rec for 50:  (array([  60, 1593,  335]), array([1.3796022, 1.1857557, 1.1542679], dtype=float32))\n",
      "rec for 51:  (array([ 238,  902, 1054]), array([1.1835905, 1.1329643, 1.0463438], dtype=float32))\n",
      "rec for 52:  (array([ 31, 259, 974]), array([0.26479685, 0.22826546, 0.21787295], dtype=float32))\n",
      "rec for 53:  (array([463,  20, 232]), array([0.83354694, 0.80668503, 0.8022713 ], dtype=float32))\n",
      "rec for 54:  (array([ 165, 1136, 1184]), array([0.35688663, 0.35645074, 0.31935242], dtype=float32))\n",
      "rec for 55:  (array([472,  20, 531]), array([0.9940959, 0.9618269, 0.953922 ], dtype=float32))\n",
      "rec for 56:  (array([194,  92, 378]), array([1.4943275, 1.3120468, 1.2952611], dtype=float32))\n",
      "rec for 57:  (array([ 16, 472, 638]), array([1.1101056, 1.0708948, 1.0589912], dtype=float32))\n",
      "rec for 58:  (array([42, 34, 36]), array([1.0793221, 1.0469273, 0.9844505], dtype=float32))\n",
      "rec for 59:  (array([1027,   16,  232]), array([0.42870194, 0.42678222, 0.38637185], dtype=float32))\n",
      "rec for 60:  (array([192, 232,  16]), array([0.7850441 , 0.76988983, 0.68656254], dtype=float32))\n",
      "rec for 61:  (array([ 770,  899, 1054]), array([1.3978629, 1.1904393, 1.1727232], dtype=float32))\n",
      "rec for 62:  (array([431, 232, 753]), array([1.2877055, 1.1618965, 1.1580343], dtype=float32))\n",
      "rec for 63:  (array([1190,    4,   36]), array([1.3896023, 1.3832365, 1.3552666], dtype=float32))\n",
      "rec for 64:  (array([238, 232, 166]), array([0.85096014, 0.8192302 , 0.81865686], dtype=float32))\n",
      "rec for 65:  (array([28, 15, 68]), array([1.6439903, 1.5109693, 1.4416256], dtype=float32))\n",
      "rec for 66:  (array([166, 232,  20]), array([0.9745945, 0.8917219, 0.8284248], dtype=float32))\n",
      "rec for 67:  (array([ 165,   75, 1147]), array([1.8439963, 1.4410309, 1.396133 ], dtype=float32))\n",
      "rec for 68:  (array([  34,  232, 1101]), array([0.75977093, 0.66584504, 0.66504735], dtype=float32))\n",
      "rec for 69:  (array([ 28,  20, 232]), array([0.8112591 , 0.68826324, 0.67202646], dtype=float32))\n",
      "rec for 70:  (array([42, 37, 40]), array([0.92702234, 0.8851288 , 0.835777  ], dtype=float32))\n",
      "rec for 71:  (array([166,  28,  20]), array([0.98353004, 0.93989164, 0.93916553], dtype=float32))\n",
      "rec for 72:  (array([1296,  926, 1077]), array([1.2436935, 1.2205952, 1.0788733], dtype=float32))\n",
      "rec for 73:  (array([ 178,  103, 1147]), array([0.98867834, 0.98262894, 0.97079855], dtype=float32))\n",
      "rec for 74:  (array([70, 89, 68]), array([0.9877627 , 0.8063893 , 0.78997546], dtype=float32))\n",
      "rec for 75:  (array([232,  16, 192]), array([1.2066661 , 1.0891355 , 0.97132456], dtype=float32))\n",
      "rec for 76:  (array([764, 753, 774]), array([0.85680485, 0.83164203, 0.79993767], dtype=float32))\n",
      "rec for 77:  (array([42, 15, 26]), array([0.7994747 , 0.78757995, 0.7723934 ], dtype=float32))\n",
      "rec for 78:  (array([69, 73, 68]), array([0.9216361 , 0.9080203 , 0.86217976], dtype=float32))\n",
      "rec for 79:  (array([ 237,  238, 1050]), array([1.1395398, 1.0822299, 1.0697032], dtype=float32))\n",
      "rec for 80:  (array([472,   7, 463]), array([0.7470706 , 0.74522275, 0.73291177], dtype=float32))\n",
      "rec for 81:  (array([ 531, 1134, 1208]), array([1.1133549, 1.0808492, 1.0660256], dtype=float32))\n",
      "rec for 82:  (array([232, 753,  20]), array([1.0368204 , 0.99676836, 0.9659913 ], dtype=float32))\n",
      "rec for 83:  (array([1027,   15,   33]), array([1.2139065, 1.1993521, 1.1933645], dtype=float32))\n",
      "rec for 84:  (array([ 28, 993, 491]), array([0.35832897, 0.29833484, 0.29439077], dtype=float32))\n",
      "rec for 85:  (array([166, 753, 764]), array([1.1113629, 1.0122257, 0.9915985], dtype=float32))\n",
      "rec for 86:  (array([  69,   70, 1423]), array([0.19414523, 0.19078933, 0.18839109], dtype=float32))\n",
      "rec for 87:  (array([192, 147, 237]), array([0.99398065, 0.91533214, 0.8656439 ], dtype=float32))\n",
      "rec for 88:  (array([ 84,  20, 101]), array([2.0704427, 2.046957 , 1.8435344], dtype=float32))\n",
      "rec for 89:  (array([292, 495,  15]), array([0.8850809, 0.8829889, 0.8818734], dtype=float32))\n",
      "rec for 90:  (array([472,  34, 642]), array([1.3906641, 1.3341866, 1.281003 ], dtype=float32))\n",
      "rec for 91:  (array([1467, 1779,  700]), array([0.39119735, 0.31792572, 0.30481565], dtype=float32))\n",
      "rec for 92:  (array([17, 37, 20]), array([1.0477118, 0.9590143, 0.9526007], dtype=float32))\n",
      "rec for 93:  (array([463,  32, 472]), array([1.0197632 , 0.98944175, 0.9638056 ], dtype=float32))\n",
      "rec for 94:  (array([  75, 1028,  588]), array([1.1273485, 1.0448587, 1.0409796], dtype=float32))\n",
      "rec for 95:  (array([166,   7, 121]), array([0.99905336, 0.9957072 , 0.98002553], dtype=float32))\n",
      "rec for 96:  (array([166, 219, 121]), array([0.7568996 , 0.67797875, 0.5979739 ], dtype=float32))\n",
      "rec for 97:  (array([915, 794, 875]), array([0.8998768, 0.8745223, 0.7524078], dtype=float32))\n",
      "rec for 98:  (array([531,  16, 633]), array([0.9507273 , 0.85621023, 0.8472965 ], dtype=float32))\n",
      "rec for 99:  (array([ 12, 670, 835]), array([1.2095733, 1.0119033, 0.9409798], dtype=float32))\n"
     ]
    }
   ],
   "source": [
    "for user_id in range(100):\n",
    "    recommendations = model.recommend(user_id, user_items[user_id], N=3)\n",
    "    print(f\"rec for {user_id}: \", recommendations)"
   ],
   "metadata": {
    "collapsed": false,
    "pycharm": {
     "name": "#%%\n"
    }
   }
  },
  {
   "cell_type": "code",
   "execution_count": 50,
   "outputs": [
    {
     "data": {
      "text/plain": "array([[4. , 0. , 0. , ..., 2.5, 3. , 5. ],\n       [4. , 0. , 0. , ..., 2. , 0. , 0. ],\n       [4. , 0. , 0. , ..., 0. , 0. , 0. ],\n       ...,\n       [0. , 0. , 0. , ..., 0. , 0. , 3. ],\n       [0. , 0. , 0. , ..., 0. , 0. , 3.5],\n       [0. , 0. , 0. , ..., 0. , 0. , 3.5]])"
     },
     "execution_count": 50,
     "metadata": {},
     "output_type": "execute_result"
    }
   ],
   "source": [
    "user_items.toarray()"
   ],
   "metadata": {
    "collapsed": false,
    "pycharm": {
     "name": "#%%\n"
    }
   }
  },
  {
   "cell_type": "code",
   "execution_count": 56,
   "outputs": [
    {
     "name": "stdout",
     "output_type": "stream",
     "text": [
      "rec for 0:  (array([ 42,   7, 121]), array([1.3655211, 1.1777693, 1.1543326], dtype=float32))\n",
      "rec for 1:  (array([244, 238, 232]), array([0.7287135 , 0.67896247, 0.6645335 ], dtype=float32))\n",
      "rec for 2:  (array([ 86, 224, 272]), array([0.1933581 , 0.1713285 , 0.16446169], dtype=float32))\n",
      "rec for 3:  (array([  0, 491, 428]), array([1.3618611, 1.0746433, 1.0610173], dtype=float32))\n",
      "rec for 4:  (array([16, 32,  7]), array([1.0098007, 0.9644757, 0.9568286], dtype=float32))\n",
      "rec for 5:  (array([484, 608, 504]), array([1.3112813, 1.2799227, 1.2795099], dtype=float32))\n",
      "rec for 6:  (array([ 85, 744, 758]), array([1.0784189 , 0.94658196, 0.94109327], dtype=float32))\n",
      "rec for 7:  (array([20, 16, 32]), array([0.96353817, 0.9590734 , 0.93663293], dtype=float32))\n",
      "rec for 8:  (array([764,  15, 758]), array([0.5725221, 0.5259911, 0.5199328], dtype=float32))\n",
      "rec for 9:  (array([ 20, 934, 877]), array([0.9173486, 0.8947843, 0.8834142], dtype=float32))\n",
      "rec for 10:  (array([42, 41, 37]), array([0.99275196, 0.92533314, 0.9240645 ], dtype=float32))\n",
      "rec for 11:  (array([ 462, 1000,  863]), array([0.4859969 , 0.47392434, 0.46161875], dtype=float32))\n",
      "rec for 12:  (array([219, 228, 737]), array([0.4363498 , 0.40464368, 0.38979518], dtype=float32))\n",
      "rec for 13:  (array([ 32, 232,  16]), array([0.88613605, 0.8555234 , 0.8484713 ], dtype=float32))\n",
      "rec for 14:  (array([166, 774, 232]), array([1.2834978, 1.1383209, 1.0863856], dtype=float32))\n",
      "rec for 15:  (array([1027,    4,  192]), array([1.1391981, 1.1108963, 1.109669 ], dtype=float32))\n",
      "rec for 16:  (array([ 16, 232,  70]), array([1.3209423, 1.2221853, 1.1647744], dtype=float32))\n",
      "rec for 17:  (array([ 471,   62, 1021]), array([1.4387707, 1.3594818, 1.3343595], dtype=float32))\n",
      "rec for 18:  (array([1404, 1469,  292]), array([1.4336085, 1.3760979, 1.3153297], dtype=float32))\n",
      "rec for 19:  (array([1186,   88,  457]), array([1.4759669, 1.1219454, 1.0938514], dtype=float32))\n",
      "rec for 20:  (array([755, 770, 134]), array([1.2161924, 1.1955099, 1.1828221], dtype=float32))\n",
      "rec for 21:  (array([ 754,  232, 1129]), array([0.9207382 , 0.9154131 , 0.90176535], dtype=float32))\n",
      "rec for 22:  (array([ 62,  36, 588]), array([1.1126287, 1.0641369, 1.0632466], dtype=float32))\n",
      "rec for 23:  (array([ 15, 166, 232]), array([0.97670364, 0.93717813, 0.8900997 ], dtype=float32))\n",
      "rec for 24:  (array([753, 764, 774]), array([0.84536093, 0.8166176 , 0.7986002 ], dtype=float32))\n",
      "rec for 25:  (array([ 16, 531, 463]), array([0.6127267 , 0.6056515 , 0.57372165], dtype=float32))\n",
      "rec for 26:  (array([70, 26, 73]), array([1.0870209 , 0.99651027, 0.9209802 ], dtype=float32))\n",
      "rec for 27:  (array([1253, 1021, 1031]), array([1.4136971, 1.3950739, 1.3763405], dtype=float32))\n",
      "rec for 28:  (array([ 232, 1027,   16]), array([0.82925576, 0.81739116, 0.8011083 ], dtype=float32))\n",
      "rec for 29:  (array([ 15, 166, 753]), array([0.91079235, 0.86156064, 0.8427957 ], dtype=float32))\n",
      "rec for 30:  (array([15, 42, 73]), array([1.0229706 , 0.94228995, 0.8844985 ], dtype=float32))\n",
      "rec for 31:  (array([ 15, 524, 515]), array([1.2217977, 1.1266977, 1.1229873], dtype=float32))\n",
      "rec for 32:  (array([28, 34, 16]), array([1.1579101, 1.1406004, 1.0634216], dtype=float32))\n",
      "rec for 33:  (array([ 166, 1796,  756]), array([0.75770074, 0.74698424, 0.697884  ], dtype=float32))\n",
      "rec for 34:  (array([ 32, 321,  25]), array([0.6572687, 0.5709946, 0.5704613], dtype=float32))\n",
      "rec for 35:  (array([ 332, 1027,  428]), array([0.37992907, 0.34966174, 0.3242962 ], dtype=float32))\n",
      "rec for 36:  (array([463, 232,  16]), array([0.6751084, 0.6382019, 0.6281   ], dtype=float32))\n",
      "rec for 37:  (array([ 32,  16, 232]), array([1.1115983, 1.0346361, 1.0080931], dtype=float32))\n",
      "rec for 38:  (array([36, 68, 16]), array([1.0767741, 1.0574338, 1.0535719], dtype=float32))\n",
      "rec for 39:  (array([ 16,  33, 323]), array([1.1109294, 1.0699859, 0.9977664], dtype=float32))\n",
      "rec for 40:  (array([1125,  233, 2049]), array([1.2729551, 1.1722472, 1.1056559], dtype=float32))\n",
      "rec for 41:  (array([ 827, 1178,  727]), array([1.3755629, 1.3257667, 1.2706578], dtype=float32))\n",
      "rec for 42:  (array([531,  26, 323]), array([1.1803743, 1.1688809, 1.1339046], dtype=float32))\n",
      "rec for 43:  (array([  42,   41, 2426]), array([0.86703885, 0.8341328 , 0.8335087 ], dtype=float32))\n",
      "rec for 44:  (array([ 182, 1600,  399]), array([1.3391049, 1.3009415, 1.2540262], dtype=float32))\n",
      "rec for 45:  (array([472,  25, 463]), array([0.9525943, 0.9284908, 0.9275845], dtype=float32))\n",
      "rec for 46:  (array([1170,  480,   34]), array([0.8808494 , 0.8797375 , 0.83042765], dtype=float32))\n",
      "rec for 47:  (array([ 101,  228, 1030]), array([0.61990106, 0.54955006, 0.5424911 ], dtype=float32))\n",
      "rec for 48:  (array([166, 232,  20]), array([0.70618355, 0.61657524, 0.61001855], dtype=float32))\n",
      "rec for 49:  (array([722,   0, 762]), array([1.3212038, 1.2782326, 1.2329814], dtype=float32))\n",
      "rec for 50:  (array([  60, 1593,  335]), array([1.333984 , 1.1676115, 1.167526 ], dtype=float32))\n",
      "rec for 51:  (array([ 238,  902, 1054]), array([1.1904333, 1.1224   , 1.0424999], dtype=float32))\n",
      "rec for 52:  (array([ 31, 259, 974]), array([0.26903698, 0.23070674, 0.22400299], dtype=float32))\n",
      "rec for 53:  (array([463, 232,  20]), array([0.83519006, 0.807129  , 0.80216867], dtype=float32))\n",
      "rec for 54:  (array([1136,  165, 1184]), array([0.3564545 , 0.35557032, 0.3209718 ], dtype=float32))\n",
      "rec for 55:  (array([472,  20, 531]), array([0.9947377 , 0.9616188 , 0.95360726], dtype=float32))\n",
      "rec for 56:  (array([194, 378,  92]), array([1.510146 , 1.3189849, 1.3074486], dtype=float32))\n",
      "rec for 57:  (array([ 16, 472, 638]), array([1.1100736, 1.0705863, 1.0604056], dtype=float32))\n",
      "rec for 58:  (array([42, 34, 36]), array([1.0677016, 1.052521 , 0.9861197], dtype=float32))\n",
      "rec for 59:  (array([1027,   16,  232]), array([0.42972335, 0.42306554, 0.39006874], dtype=float32))\n",
      "rec for 60:  (array([192, 232,  16]), array([0.785863  , 0.77254224, 0.6833803 ], dtype=float32))\n",
      "rec for 61:  (array([770, 203, 899]), array([1.4020227, 1.2010266, 1.1936027], dtype=float32))\n",
      "rec for 62:  (array([ 431,  753, 1198]), array([1.2869744, 1.1649418, 1.143846 ], dtype=float32))\n",
      "rec for 63:  (array([1190,    4,   36]), array([1.4015367, 1.4013855, 1.3320007], dtype=float32))\n",
      "rec for 64:  (array([238, 232, 166]), array([0.8479124 , 0.82501096, 0.8200505 ], dtype=float32))\n",
      "rec for 65:  (array([28, 15, 68]), array([1.6367618, 1.4714333, 1.4267707], dtype=float32))\n",
      "rec for 66:  (array([166, 232,  20]), array([0.9736317 , 0.8920059 , 0.82602984], dtype=float32))\n",
      "rec for 67:  (array([ 165, 1147,  983]), array([1.8641024, 1.3960434, 1.3879075], dtype=float32))\n",
      "rec for 68:  (array([166,  34,  15]), array([0.8392369 , 0.7640954 , 0.73869777], dtype=float32))\n",
      "rec for 69:  (array([ 28, 355,  20]), array([0.81742156, 0.6958551 , 0.67796564], dtype=float32))\n",
      "rec for 70:  (array([42, 15, 37]), array([0.93024665, 0.8881549 , 0.88714254], dtype=float32))\n",
      "rec for 71:  (array([166,  16, 232]), array([0.98142624, 0.9649376 , 0.9477283 ], dtype=float32))\n",
      "rec for 72:  (array([1296,  926, 1077]), array([1.2421867, 1.2067188, 1.0780869], dtype=float32))\n",
      "rec for 73:  (array([ 76, 103, 178]), array([1.0049948 , 0.999121  , 0.98402584], dtype=float32))\n",
      "rec for 74:  (array([70, 89, 15]), array([0.98965037, 0.80866337, 0.80112916], dtype=float32))\n",
      "rec for 75:  (array([232,  16, 192]), array([1.2010682 , 1.0929819 , 0.97544134], dtype=float32))\n",
      "rec for 76:  (array([764, 753, 774]), array([0.85969764, 0.8311715 , 0.80049056], dtype=float32))\n",
      "rec for 77:  (array([478,  42,  26]), array([0.88037366, 0.79967463, 0.78232133], dtype=float32))\n",
      "rec for 78:  (array([69, 73, 15]), array([0.92458487, 0.9001239 , 0.86417985], dtype=float32))\n",
      "rec for 79:  (array([ 237,  238, 1050]), array([1.1492944, 1.0847954, 1.066091 ], dtype=float32))\n",
      "rec for 80:  (array([  7, 472, 463]), array([0.74579006, 0.7448987 , 0.7340822 ], dtype=float32))\n",
      "rec for 81:  (array([1134,  478,  470]), array([1.090479 , 1.0710455, 1.0666416], dtype=float32))\n",
      "rec for 82:  (array([232, 753,  20]), array([1.0259519, 0.9976039, 0.9592442], dtype=float32))\n",
      "rec for 83:  (array([  15, 1027,   33]), array([1.2168124, 1.2044191, 1.1964337], dtype=float32))\n",
      "rec for 84:  (array([ 28, 993, 491]), array([0.35975263, 0.29644835, 0.29622936], dtype=float32))\n",
      "rec for 85:  (array([166, 753, 764]), array([1.1146536 , 1.0153756 , 0.99542445], dtype=float32))\n",
      "rec for 86:  (array([67, 69, 70]), array([0.28972453, 0.19152726, 0.19127774], dtype=float32))\n",
      "rec for 87:  (array([192, 147, 237]), array([1.0011984 , 0.9158012 , 0.86495864], dtype=float32))\n",
      "rec for 88:  (array([ 20,  84, 101]), array([2.0768273, 2.0738704, 1.8505332], dtype=float32))\n",
      "rec for 89:  (array([495, 292,  15]), array([0.88483316, 0.88449395, 0.8813057 ], dtype=float32))\n",
      "rec for 90:  (array([472,  34, 642]), array([1.4014319, 1.3321038, 1.2732568], dtype=float32))\n",
      "rec for 91:  (array([1467, 1779,  700]), array([0.38992566, 0.31663427, 0.3079038 ], dtype=float32))\n",
      "rec for 92:  (array([17, 37, 20]), array([1.0436531 , 0.95326865, 0.9523738 ], dtype=float32))\n",
      "rec for 93:  (array([463,  32, 472]), array([1.0224544 , 0.9910837 , 0.96456486], dtype=float32))\n",
      "rec for 94:  (array([  75,  588, 1028]), array([1.1283425, 1.064519 , 1.0485159], dtype=float32))\n",
      "rec for 95:  (array([  7, 166, 121]), array([1.0015622 , 0.99830014, 0.9750974 ], dtype=float32))\n",
      "rec for 96:  (array([166, 219, 121]), array([0.75394905, 0.6821724 , 0.59714574], dtype=float32))\n",
      "rec for 97:  (array([915, 794,   0]), array([0.9056679, 0.8724596, 0.772082 ], dtype=float32))\n",
      "rec for 98:  (array([531,  16, 633]), array([0.94743675, 0.85235196, 0.8483871 ], dtype=float32))\n",
      "rec for 99:  (array([ 12, 670, 731]), array([1.2077314, 1.0146779, 0.9396164], dtype=float32))\n"
     ]
    }
   ],
   "source": [
    "for user_id in range(100):\n",
    "    recommendations = model.recommend(user_id, user_items_test[user_id], N=3)\n",
    "    print(f\"rec for {user_id}: \", recommendations)"
   ],
   "metadata": {
    "collapsed": false,
    "pycharm": {
     "name": "#%%\n"
    }
   }
  },
  {
   "cell_type": "code",
   "execution_count": 80,
   "outputs": [],
   "source": [
    "test_data_matrix = test_data_matrix.toarray()\n",
    "test_data_matrix[2][263] = 0"
   ],
   "metadata": {
    "collapsed": false,
    "pycharm": {
     "name": "#%%\n"
    }
   }
  },
  {
   "cell_type": "code",
   "execution_count": 86,
   "outputs": [
    {
     "data": {
      "text/plain": "(array([  7,  17,  25,  41,  58, 471, 532, 565, 573, 603, 684], dtype=int64),)"
     },
     "execution_count": 86,
     "metadata": {},
     "output_type": "execute_result"
    }
   ],
   "source": [
    "np.where(test_data_matrix[5] == 5)"
   ],
   "metadata": {
    "collapsed": false,
    "pycharm": {
     "name": "#%%\n"
    }
   }
  },
  {
   "cell_type": "code",
   "execution_count": 88,
   "outputs": [],
   "source": [
    "test_data_matrix[5][7] = 0\n",
    "test_data_matrix[5][17] = 0\n",
    "test_data_matrix[5][25] = 0"
   ],
   "metadata": {
    "collapsed": false,
    "pycharm": {
     "name": "#%%\n"
    }
   }
  },
  {
   "cell_type": "code",
   "execution_count": 89,
   "outputs": [
    {
     "data": {
      "text/plain": "(array([ 484,  608,  504,  580,  314,  502,  460,  313,  486,  481,  515,\n        1430,  531,  621,  610,  483,   22,  612,  588,   31]),\n array([1.3112813, 1.2799227, 1.2795099, 1.2285532, 1.218313 , 1.1686647,\n        1.1674622, 1.1575077, 1.1272751, 1.1202202, 1.1179943, 1.1080779,\n        1.1063772, 1.1007195, 1.0802832, 1.0797931, 1.0716823, 1.0705589,\n        1.0695897, 1.0574884], dtype=float32))"
     },
     "execution_count": 89,
     "metadata": {},
     "output_type": "execute_result"
    }
   ],
   "source": [
    "model.recommend(5, sparse.csr_matrix(test_data_matrix[5]), N=20)"
   ],
   "metadata": {
    "collapsed": false,
    "pycharm": {
     "name": "#%%\n"
    }
   }
  },
  {
   "cell_type": "code",
   "execution_count": null,
   "outputs": [],
   "source": [],
   "metadata": {
    "collapsed": false,
    "pycharm": {
     "name": "#%%\n"
    }
   }
  }
 ],
 "metadata": {
  "kernelspec": {
   "display_name": "Python 3",
   "language": "python",
   "name": "python3"
  },
  "language_info": {
   "codemirror_mode": {
    "name": "ipython",
    "version": 2
   },
   "file_extension": ".py",
   "mimetype": "text/x-python",
   "name": "python",
   "nbconvert_exporter": "python",
   "pygments_lexer": "ipython2",
   "version": "2.7.6"
  }
 },
 "nbformat": 4,
 "nbformat_minor": 0
}